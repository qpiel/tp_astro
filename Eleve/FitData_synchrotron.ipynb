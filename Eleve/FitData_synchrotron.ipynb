{
 "cells": [
  {
   "cell_type": "code",
   "execution_count": null,
   "metadata": {},
   "outputs": [],
   "source": [
    "import numpy as np\n",
    "import scipy.optimize\n",
    "import matplotlib.pyplot as plt\n",
    "powerlaw = lambda x,norm,index, : norm * (x / 1.) ** (-index / 1.) "
   ]
  },
  {
   "cell_type": "code",
   "execution_count": null,
   "metadata": {},
   "outputs": [],
   "source": [
    "#Source 1\n",
    "#Points Fermi\n",
    "x=[]\n",
    "y=[]\n",
    "dy=[]\n",
    "data = np.genfromtxt('source1_lowenergy.txt') \n",
    "for i in range(0,len(data)):\n",
    "\tx.append(data[i][0])# TeV\n",
    "\t\n",
    "\ty.append(data[i][2]) # erg cm-2 s-1\n",
    "\tdy.append(data[i][3])\n",
    "z = np.polyfit(x, y, 2)\n",
    "xx = np.linspace(np.min(x),np.max(x))\n",
    "p = np.poly1d(z)\n",
    "print(\"Source 1 : Energy maximum : \"+ str(np.power(10,x[np.argmax(p(x))])*1e12) + \" eV\")"
   ]
  },
  {
   "cell_type": "code",
   "execution_count": null,
   "metadata": {},
   "outputs": [],
   "source": [
    "#Source 2\n",
    "x2=[]\n",
    "y2=[]\n",
    "dy2=[]\n",
    "data2 = np.genfromtxt('source2_lowenergy.txt') \n",
    "for i in range(0,len(data)):\n",
    "\tx2.append(data2[i][0])# TeV\n",
    "\t\n",
    "\ty2.append(data2[i][2]) # erg cm-2 s-1\n",
    "\tdy2.append(data2[i][3])\n",
    "z2 = np.polyfit(x2, y2, 2)\n",
    "xx2 = np.linspace(np.min(x2),np.max(x2))\n",
    "p2 = np.poly1d(z2)\n",
    "print(x2[np.argmax(p2(x2))])\n",
    "print(\"Source 2 : Energy maximum : \"+ str(np.power(10,x2[np.argmax(p2(x2))])*1e12) + \" eV\")"
   ]
  },
  {
   "cell_type": "code",
   "execution_count": null,
   "metadata": {},
   "outputs": [],
   "source": [
    "plt.plot(xx2,p(xx2),label='model')\n",
    "plt.plot(x2,y2,'o',label='data')\n",
    "plt.legend()\n",
    "plt.show()\n",
    "print(x2[np.argmax(p(x2))])"
   ]
  }
 ],
 "metadata": {
  "kernelspec": {
   "display_name": "Python 3",
   "language": "python",
   "name": "python3"
  },
  "language_info": {
   "codemirror_mode": {
    "name": "ipython",
    "version": 3
   },
   "file_extension": ".py",
   "mimetype": "text/x-python",
   "name": "python",
   "nbconvert_exporter": "python",
   "pygments_lexer": "ipython3",
   "version": "3.7.0"
  }
 },
 "nbformat": 4,
 "nbformat_minor": 2
}
