{
 "cells": [
  {
   "cell_type": "code",
   "execution_count": 1,
   "metadata": {},
   "outputs": [
    {
     "name": "stderr",
     "output_type": "stream",
     "text": [
      "/Users/pielquentin/anaconda2/envs/gammapy-dev/lib/python3.7/site-packages/pyfits/__init__.py:22: PyFITSDeprecationWarning: PyFITS is deprecated, please use astropy.io.fits\n",
      "  PyFITSDeprecationWarning)  # noqa\n"
     ]
    },
    {
     "ename": "ModuleNotFoundError",
     "evalue": "No module named 'ctools'",
     "output_type": "error",
     "traceback": [
      "\u001b[0;31m---------------------------------------------------------------------------\u001b[0m",
      "\u001b[0;31mModuleNotFoundError\u001b[0m                       Traceback (most recent call last)",
      "\u001b[0;32m<ipython-input-1-6c853dd44d09>\u001b[0m in \u001b[0;36m<module>\u001b[0;34m\u001b[0m\n\u001b[1;32m      4\u001b[0m \u001b[0;32mfrom\u001b[0m \u001b[0mastropy\u001b[0m\u001b[0;34m.\u001b[0m\u001b[0mmodeling\u001b[0m \u001b[0;32mimport\u001b[0m \u001b[0mmodels\u001b[0m\u001b[0;34m,\u001b[0m \u001b[0mfitting\u001b[0m\u001b[0;34m\u001b[0m\u001b[0m\n\u001b[1;32m      5\u001b[0m \u001b[0;32mimport\u001b[0m \u001b[0mpyfits\u001b[0m\u001b[0;34m\u001b[0m\u001b[0m\n\u001b[0;32m----> 6\u001b[0;31m \u001b[0;32mimport\u001b[0m \u001b[0mctools\u001b[0m\u001b[0;34m\u001b[0m\u001b[0m\n\u001b[0m\u001b[1;32m      7\u001b[0m \u001b[0;32mimport\u001b[0m \u001b[0mgammalib\u001b[0m\u001b[0;34m\u001b[0m\u001b[0m\n\u001b[1;32m      8\u001b[0m \u001b[0;32mimport\u001b[0m \u001b[0mcscripts\u001b[0m\u001b[0;34m\u001b[0m\u001b[0m\n",
      "\u001b[0;31mModuleNotFoundError\u001b[0m: No module named 'ctools'"
     ]
    }
   ],
   "source": [
    "import Function as func\n",
    "import numpy,scipy.optimize\n",
    "import matplotlib.pyplot as plt"
   ]
  },
  {
   "cell_type": "code",
   "execution_count": null,
   "metadata": {},
   "outputs": [],
   "source": [
    "#Quelques exemples de fonctions utilisee pour le fit des donnees\n",
    "logparabola = lambda x,norm,alpha,beta, : norm * (x / 1e6) ** (-alpha - beta * numpy.log(x / 1e6))\n",
    "powerlawcut = lambda x,norm,index, : norm * (x / .1) ** (-index / .1) * np.exp(-x / 1.)\n",
    "powerlaw = lambda x,norm,index, : norm * (x / 1.) ** (-index / 1.) "
   ]
  },
  {
   "cell_type": "code",
   "execution_count": null,
   "metadata": {},
   "outputs": [],
   "source": [
    "#Source 1\n",
    "x = [] # TeV\n",
    "err_x = [] # TeV\n",
    "y = [] # erg cm-2 s-1\n",
    "err_y = [] # erg cm-2 s-1\n",
    "\n",
    "\n",
    "#Source 2\n",
    "x = [] # TeV\n",
    "err_x = [] # TeV\n",
    "y = [] # erg cm-2 s-1\n",
    "err_y = [] # erg cm-2 s-1"
   ]
  },
  {
   "cell_type": "code",
   "execution_count": null,
   "metadata": {},
   "outputs": [],
   "source": [
    "#Fit and plot data\n",
    "\n",
    "popt, pcov = scipy.optimize.curve_fit(powerlaw, x, y, p0=[1e-13,2.51],sigma=err_y)\n",
    "\n",
    "print(\"Indice = \" + str(popt[1]) + \" +- \"+ str(pcov[1][1]))\n",
    "print(\"Norme = \" + str(popt[0]) + \" + -  \"+ str(pcov[0][0])+ \" erg cm^-2 s^-1\")\n",
    "\n",
    "\n"
   ]
  }
 ],
 "metadata": {
  "kernelspec": {
   "display_name": "Python 3",
   "language": "python",
   "name": "python3"
  },
  "language_info": {
   "codemirror_mode": {
    "name": "ipython",
    "version": 3
   },
   "file_extension": ".py",
   "mimetype": "text/x-python",
   "name": "python",
   "nbconvert_exporter": "python",
   "pygments_lexer": "ipython3",
   "version": "3.7.0"
  }
 },
 "nbformat": 4,
 "nbformat_minor": 2
}
