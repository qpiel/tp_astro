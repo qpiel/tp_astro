{
 "cells": [
  {
   "cell_type": "code",
   "execution_count": 1,
   "metadata": {},
   "outputs": [
    {
     "name": "stderr",
     "output_type": "stream",
     "text": [
      "/Users/pielquentin/anaconda2/envs/gammapy-dev/lib/python3.7/site-packages/pyfits/__init__.py:22: PyFITSDeprecationWarning: PyFITS is deprecated, please use astropy.io.fits\n",
      "  PyFITSDeprecationWarning)  # noqa\n"
     ]
    },
    {
     "ename": "ModuleNotFoundError",
     "evalue": "No module named 'ctools'",
     "output_type": "error",
     "traceback": [
      "\u001b[0;31m---------------------------------------------------------------------------\u001b[0m",
      "\u001b[0;31mModuleNotFoundError\u001b[0m                       Traceback (most recent call last)",
      "\u001b[0;32m<ipython-input-1-6c853dd44d09>\u001b[0m in \u001b[0;36m<module>\u001b[0;34m\u001b[0m\n\u001b[1;32m      4\u001b[0m \u001b[0;32mfrom\u001b[0m \u001b[0mastropy\u001b[0m\u001b[0;34m.\u001b[0m\u001b[0mmodeling\u001b[0m \u001b[0;32mimport\u001b[0m \u001b[0mmodels\u001b[0m\u001b[0;34m,\u001b[0m \u001b[0mfitting\u001b[0m\u001b[0;34m\u001b[0m\u001b[0m\n\u001b[1;32m      5\u001b[0m \u001b[0;32mimport\u001b[0m \u001b[0mpyfits\u001b[0m\u001b[0;34m\u001b[0m\u001b[0m\n\u001b[0;32m----> 6\u001b[0;31m \u001b[0;32mimport\u001b[0m \u001b[0mctools\u001b[0m\u001b[0;34m\u001b[0m\u001b[0m\n\u001b[0m\u001b[1;32m      7\u001b[0m \u001b[0;32mimport\u001b[0m \u001b[0mgammalib\u001b[0m\u001b[0;34m\u001b[0m\u001b[0m\n\u001b[1;32m      8\u001b[0m \u001b[0;32mimport\u001b[0m \u001b[0mcscripts\u001b[0m\u001b[0;34m\u001b[0m\u001b[0m\n",
      "\u001b[0;31mModuleNotFoundError\u001b[0m: No module named 'ctools'"
     ]
    }
   ],
   "source": [
    "import warnings\n",
    "import numpy as np\n",
    "import matplotlib.pyplot as plt\n",
    "from astropy.modeling import models, fitting\n",
    "import pyfits\n",
    "import ctools\n",
    "import gammalib\n",
    "import cscripts\n"
   ]
  },
  {
   "cell_type": "code",
   "execution_count": null,
   "metadata": {},
   "outputs": [],
   "source": [
    "x,y=np.mgrid[:300,:300]  \n",
    "\n",
    "d = pyfits.open('skymap.fits')\n",
    "z= d[1].data\n",
    "p_init = models.Gaussian2D(amplitude=15.2,x_mean=157,y_mean=153)\n",
    "p_init2 = models.Gaussian2D(amplitude=15.2,x_mean=245,y_mean=170)\n",
    "fit_p = fitting.LevMarLSQFitter() \n",
    "with warnings.catch_warnings():                              \n",
    "    # Ignore model linearity warning from the fitter                       \n",
    "    warnings.simplefilter('ignore')            \n",
    "    #Pour fitter la source 1       \n",
    "    p = fit_p(p_init, x[135:160], y[135:160], z[135:160])\n",
    "    #Pour fitter la source 2\n",
    "    p2 = fit_p(p_init2, x[230:260], y[155:185], z[230:260])"
   ]
  },
  {
   "cell_type": "code",
   "execution_count": null,
   "metadata": {},
   "outputs": [],
   "source": [
    "x_fit = (p.x_mean.value-157)*0.02 + 201.365\n",
    "y_fit = -(p.y_mean.value -153)*0.02 - 43.019\n",
    "print(\"Source 1: RA = \"+str(x_fit)+ \" deg, Std RA = \" + str(p.x_stddev.value*0.02)+ \" deg, Dec = \" + str(y_fit) + \" deg, Std Dec = \" + str(p.y_stddev.value*0.02)+ \" deg\")\n",
    "\n",
    "x_fit2 = (p2.x_mean.value-245)*0.02 + 198.74\n",
    "y_fit2 = -(p2.y_mean.value -170)*0.02 - 42.63\n",
    "print(\"Source 2: RA = \"+str(x_fit2)+ \" deg, Std RA = \" + str(p2.x_stddev.value*0.02)+ \" deg, Dec = \" + str(y_fit2) + \" deg, Std Dec = \" + str(p2.y_stddev.value*0.02)+ \" deg\")"
   ]
  }
 ],
 "metadata": {
  "kernelspec": {
   "display_name": "Python 3",
   "language": "python",
   "name": "python3"
  },
  "language_info": {
   "codemirror_mode": {
    "name": "ipython",
    "version": 3
   },
   "file_extension": ".py",
   "mimetype": "text/x-python",
   "name": "python",
   "nbconvert_exporter": "python",
   "pygments_lexer": "ipython3",
   "version": "3.7.0"
  }
 },
 "nbformat": 4,
 "nbformat_minor": 2
}
