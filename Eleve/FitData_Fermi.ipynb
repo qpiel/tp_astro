{
 "cells": [
  {
   "cell_type": "code",
   "execution_count": null,
   "metadata": {},
   "outputs": [],
   "source": [
    "import numpy as np\n",
    "import scipy.optimize\n",
    "powerlaw = lambda x,norm,index, : norm * (x / 1.) ** (-index / 1.) "
   ]
  },
  {
   "cell_type": "code",
   "execution_count": null,
   "metadata": {},
   "outputs": [],
   "source": [
    "#Source 1\n",
    "#Points Fermi\n",
    "x=[]\n",
    "y=[]\n",
    "dy=[]\n",
    "data = np.genfromtxt('source1_fermi.txt') \n",
    "for i in range(0,len(data)):\n",
    "\tx.append(np.power(10,data[i][0]))# TeV\n",
    "\t\n",
    "\ty.append(np.power(10,data[i][2]) )# erg cm-2 s-1\n",
    "\tdy.append(np.power(10,data[i][3]))\n",
    "#On fit les donnees en prenant les parametres suivants comme valeurs initiales\n",
    "#norm = 1e-13 erg cm-2 s-1 \n",
    "popt, pcov = scipy.optimize.curve_fit(powerlaw, x, y, p0=[3e-13,2.71],sigma=dy)\n",
    "\n",
    "print(\"Source 1 :Norm : \",popt[0],\" +/- \",pcov[0][0])\n",
    "print(\"Index : \",popt[1],\" +/- \",pcov[1][1])\n",
    "\n"
   ]
  },
  {
   "cell_type": "code",
   "execution_count": null,
   "metadata": {},
   "outputs": [],
   "source": [
    "#Source 2\n",
    "x2=[]\n",
    "y2=[]\n",
    "dy2=[]\n",
    "data = np.genfromtxt('source2_fermi.txt') \n",
    "for i in range(0,len(data)):\n",
    "\tx2.append(np.power(10,data[i][0]))# TeV\n",
    "\t\n",
    "\ty2.append(np.power(10,data[i][2]) )# erg cm-2 s-1\n",
    "\tdy2.append(np.power(10,data[i][3]))\n",
    "\n",
    "#On fit les donnees en prenant les parametres suivants comme valeurs initiales\n",
    "#norm = 1e-13 erg cm-2 s-1 \n",
    "popt, pcov = scipy.optimize.curve_fit(powerlaw, x2, y2, p0=[3e-13,2.71],sigma=dy2)\n",
    "\n",
    "print(\"Source 2 : Norm : \",popt[0],\" +/- \",pcov[0][0])\n",
    "print(\"Index : \",popt[1],\" +/- \",pcov[1][1])"
   ]
  }
 ],
 "metadata": {
  "kernelspec": {
   "display_name": "Python 3",
   "language": "python",
   "name": "python3"
  },
  "language_info": {
   "codemirror_mode": {
    "name": "ipython",
    "version": 3
   },
   "file_extension": ".py",
   "mimetype": "text/x-python",
   "name": "python",
   "nbconvert_exporter": "python",
   "pygments_lexer": "ipython3",
   "version": "3.7.0"
  }
 },
 "nbformat": 4,
 "nbformat_minor": 2
}
