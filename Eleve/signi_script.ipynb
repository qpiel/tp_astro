{
 "cells": [
  {
   "cell_type": "code",
   "execution_count": null,
   "metadata": {},
   "outputs": [],
   "source": [
    "import numpy as np\n",
    "import pyfits"
   ]
  },
  {
   "cell_type": "code",
   "execution_count": null,
   "metadata": {},
   "outputs": [],
   "source": [
    "on_file = pyfits.open('onoff_pha_on.fits')\n",
    "off_file = pyfits.open('onoff_pha_off.fits')\n",
    "on = 0\n",
    "off = 0\n",
    "j=0\n",
    "fd = open('onoff_off.reg', 'r')\n",
    "for line in fd:\n",
    "\tj= j +1\n",
    "for i in range(0,len(on_file)):\n",
    "\ton = on+on_file[1].data[i][1]\n",
    "\toff = off +off_file[1].data[i][1]\n",
    "\n",
    "nb_regions = j -2\n",
    "mu_bk = off/nb_regions\n",
    "\n",
    "\n",
    "lima = np.sqrt(2* on *np.log(on/mu_bk) - on + mu_bk)\n",
    "\n",
    "print(\"Non = \" + str(on))\n",
    "print(\"Noff = \" + str(off))\n",
    "print(\"Nb region = \" + str(nb_regions))\n",
    "print(\"Significance = \" + str(lima))"
   ]
  }
 ],
 "metadata": {
  "kernelspec": {
   "display_name": "Python 3",
   "language": "python",
   "name": "python3"
  },
  "language_info": {
   "codemirror_mode": {
    "name": "ipython",
    "version": 3
   },
   "file_extension": ".py",
   "mimetype": "text/x-python",
   "name": "python",
   "nbconvert_exporter": "python",
   "pygments_lexer": "ipython3",
   "version": "3.7.0"
  }
 },
 "nbformat": 4,
 "nbformat_minor": 2
}
